{
  "cells": [
    {
      "cell_type": "markdown",
      "metadata": {
        "id": "aBj_0vRigiH7"
      },
      "source": [
        "# ChatGPT Inline Tips with simpleaichat\n",
        "\n",
        "[simpleaichat](https://github.com/minimaxir/simpleaichat) allows the user more control over text inputs and output. One way to do it is to analyze user input for potential issues, and display a warning if there are unexpected issues with the input.\n",
        "\n",
        "Inspired by Simon Willison's blog post [ChatGPT should include inline tips\n",
        "](https://simonwillison.net/2023/May/30/chatgpt-inline-tips/).\n",
        "\n",
        "**DISCLAIMER: This is far from a perfect solution, but a good proof-of-concept on how to use simpleaichat to address complex problems.**"
      ]
    },
    {
      "cell_type": "code",
      "execution_count": 1,
      "metadata": {
        "id": "kqL3etKLgiH9"
      },
      "outputs": [],
      "source": [
        "from localaichat.localaichat import AIChat\n",
        "from rich.console import Console\n",
        "from getpass import getpass\n",
        "import time"
      ]
    },
    {
      "cell_type": "markdown",
      "metadata": {
        "id": "zld11X3xgr1O"
      },
      "source": [
        "For the following cell, input your OpenAI API key when prompted. **It will not be saved to the notebook.**."
      ]
    },
    {
      "cell_type": "code",
      "execution_count": 2,
      "metadata": {
        "colab": {
          "base_uri": "https://localhost:8080/"
        },
        "id": "xueo1SmCg2SF",
        "outputId": "92589df7-05d7-4d28-a163-acd805dbdb9a"
      },
      "outputs": [],
      "source": [
        "api_key = \"token-abc123\""
      ]
    },
    {
      "cell_type": "markdown",
      "metadata": {
        "id": "2O_1CUGVg8Y4"
      },
      "source": [
        "Let's create an AI chat, and a Console for output to the notebook."
      ]
    },
    {
      "cell_type": "code",
      "execution_count": 3,
      "metadata": {
        "id": "d4o0elPQgiH-"
      },
      "outputs": [],
      "source": [
        "# ai = AIChat(api_key=api_key, console=False, params={\"temperature\": 0.0})  # for reproducibility\n",
        "ai = AIChat(client_type=\"Llamacpp\", api_key=\"token-abc123\", model=\"/home/server_runner/Desktop/CloserModels/Senku-70B-Full-Q4_K_M.gguf\", params={\"temperature\": 0.0}, console=False)\n",
        "console = Console(width=60, highlight=False)"
      ]
    },
    {
      "cell_type": "markdown",
      "metadata": {
        "id": "xAPziFs-giH-"
      },
      "source": [
        "First, we'll set a list of rules that we can display. These rules are adapted from real-world incidents and OpenAI's [usage policies](https://openai.com/policies/usage-policies)."
      ]
    },
    {
      "cell_type": "code",
      "execution_count": 4,
      "metadata": {
        "id": "RLzlzbBrgiH-"
      },
      "outputs": [],
      "source": [
        "tips = [\n",
        "    \"This ChatGPT model does not have access to the internet, and its training data cut-off is September 2021.\",\n",
        "    \"ChatGPT should not be relied on for legal research of this nature, because it is very likely to invent realistic cases that do not exist.\",\n",
        "    \"Medical and psychatric advice from ChatGPT should not be relied upon. Always consult a doctor.\",\n",
        "    \"Tailored financial advice from ChatGPT should not be relied upon. Always consult a professional.\",\n",
        "    \"ChatGPT is not liable for any illegal activies committed as the result of its responses.\"\n",
        "]"
      ]
    },
    {
      "cell_type": "markdown",
      "metadata": {
        "id": "b6q0JBoGgiH_"
      },
      "source": [
        "When generating a response from ChatGPT, we'll first check the user input against a bespoke function in a different context to see if ChatGPT can detect one of the issues above. This is accomplished through a system prompt, and forcing the model to choose a number between `1` and `5`, or `0` if nothing is present.\n",
        "\n",
        "The order of the tips above matches the order of the list. This is incidentially the same workflow as tools in simpleaichat."
      ]
    },
    {
      "cell_type": "code",
      "execution_count": 5,
      "metadata": {
        "id": "-C2Rp02igiH_"
      },
      "outputs": [],
      "source": [
        "tips_prompt = \"\"\"From the list of topics below, reply ONLY with the number appropriate for describing the topic of the user's message. If none are, ONLY reply with \"0\".\n",
        "\n",
        "1. Content after September 2021\n",
        "2. Legal/Judicial Research\n",
        "3. Medical/Psychatric Advice\n",
        "4. Financial Advice\n",
        "5. Illegal/Unethical Activies\"\"\""
      ]
    },
    {
      "cell_type": "code",
      "execution_count": 6,
      "metadata": {
        "id": "HzLh4Q6JgiH_"
      },
      "outputs": [],
      "source": [
        "# ensures tips output will always be an integer between 0 and 5 inclusive\n",
        "params = {\n",
        "    \"temperature\": 0.0,\n",
        "    \"max_tokens\": 1,\n",
        "}\n",
        "\n",
        "# functional\n",
        "ai.new_session(id=\"tips\",\n",
        "               api_key=api_key,\n",
        "               model=\"/home/server_runner/Desktop/CloserModels/llama3_70B_awq\",\n",
        "               system=tips_prompt,\n",
        "               save_messages=False,\n",
        "               params=params)\n",
        "\n",
        "def check_user_input(message):\n",
        "    tip_idx = ai(message, id=\"tips\")\n",
        "    if tip_idx == \"0\":  # no tip needed\n",
        "        return\n",
        "    else:\n",
        "        tip = tips[int(tip_idx) - 1]\n",
        "        console.print(f\"⚠️ {tip}\", style=\"bold\")"
      ]
    },
    {
      "cell_type": "markdown",
      "metadata": {
        "id": "5raNhn8igiIA"
      },
      "source": [
        "Let's test it in a conversation!"
      ]
    },
    {
      "cell_type": "code",
      "execution_count": 7,
      "metadata": {
        "colab": {
          "base_uri": "https://localhost:8080/",
          "height": 1000
        },
        "id": "DP3z0wIWgiIA",
        "outputId": "070fcfa9-016a-4abe-f15b-a094f525c4a2",
        "scrolled": false
      },
      "outputs": [
        {
          "data": {
            "text/html": [
              "<pre style=\"white-space:pre;overflow-x:auto;line-height:normal;font-family:Menlo,'DejaVu Sans Mono',consolas,'Courier New',monospace\"><span style=\"font-weight: bold\">You:</span> </pre>\n"
            ],
            "text/plain": [
              "\u001b[1mYou:\u001b[0m "
            ]
          },
          "metadata": {},
          "output_type": "display_data"
        },
        {
          "data": {
            "text/html": [
              "<pre style=\"white-space:pre;overflow-x:auto;line-height:normal;font-family:Menlo,'DejaVu Sans Mono',consolas,'Courier New',monospace\"><span style=\"font-weight: bold\">⚠️ This ChatGPT model does not have access to the internet, </span>\n",
              "<span style=\"font-weight: bold\">and its training data cut-off is September 2021.</span>\n",
              "</pre>\n"
            ],
            "text/plain": [
              "\u001b[1m⚠️ This ChatGPT model does not have access to the internet, \u001b[0m\n",
              "\u001b[1mand its training data cut-off is September 2021.\u001b[0m\n"
            ]
          },
          "metadata": {},
          "output_type": "display_data"
        },
        {
          "data": {
            "text/html": [
              "<pre style=\"white-space:pre;overflow-x:auto;line-height:normal;font-family:Menlo,'DejaVu Sans Mono',consolas,'Courier New',monospace\"><span style=\"color: #ff00ff; text-decoration-color: #ff00ff; font-weight: bold\">ChatGPT</span><span style=\"color: #ff00ff; text-decoration-color: #ff00ff\">: I'd be happy to help you with that.</span>\n",
              "\n",
              "<span style=\"color: #ff00ff; text-decoration-color: #ff00ff\">As of my knowledge cutoff, the 2024 United States </span>\n",
              "<span style=\"color: #ff00ff; text-decoration-color: #ff00ff\">presidential election is still over a year away, and the </span>\n",
              "<span style=\"color: #ff00ff; text-decoration-color: #ff00ff\">candidates have not yet been officially announced. However, </span>\n",
              "<span style=\"color: #ff00ff; text-decoration-color: #ff00ff\">I can provide you with some general information and updates </span>\n",
              "<span style=\"color: #ff00ff; text-decoration-color: #ff00ff\">on the potential candidates.</span>\n",
              "\n",
              "<span style=\"color: #ff00ff; text-decoration-color: #ff00ff\">**Democratic Party:**</span>\n",
              "\n",
              "<span style=\"color: #ff00ff; text-decoration-color: #ff00ff\">* Joe Biden: The current President of the United States has </span>\n",
              "<span style=\"color: #ff00ff; text-decoration-color: #ff00ff\">not yet announced whether he will seek re-election. However,</span>\n",
              "<span style=\"color: #ff00ff; text-decoration-color: #ff00ff\">he has hinted that he may run again.</span>\n",
              "<span style=\"color: #ff00ff; text-decoration-color: #ff00ff\">* Other potential Democratic candidates include:</span>\n",
              "<span style=\"color: #ff00ff; text-decoration-color: #ff00ff\">        + Bernie Sanders</span>\n",
              "<span style=\"color: #ff00ff; text-decoration-color: #ff00ff\">        + Elizabeth Warren</span>\n",
              "<span style=\"color: #ff00ff; text-decoration-color: #ff00ff\">        + Kamala Harris</span>\n",
              "<span style=\"color: #ff00ff; text-decoration-color: #ff00ff\">        + Pete Buttigieg</span>\n",
              "<span style=\"color: #ff00ff; text-decoration-color: #ff00ff\">        + Michael Bloomberg</span>\n",
              "<span style=\"color: #ff00ff; text-decoration-color: #ff00ff\">        + Andrew Yang</span>\n",
              "\n",
              "<span style=\"color: #ff00ff; text-decoration-color: #ff00ff\">**Republican Party:**</span>\n",
              "\n",
              "<span style=\"color: #ff00ff; text-decoration-color: #ff00ff\">* Donald Trump: The former President of the United States </span>\n",
              "<span style=\"color: #ff00ff; text-decoration-color: #ff00ff\">has announced that he will run for president again in 2024.</span>\n",
              "<span style=\"color: #ff00ff; text-decoration-color: #ff00ff\">* Other potential Republican candidates include:</span>\n",
              "<span style=\"color: #ff00ff; text-decoration-color: #ff00ff\">        + Mike Pence</span>\n",
              "<span style=\"color: #ff00ff; text-decoration-color: #ff00ff\">        + Nikki Haley</span>\n",
              "<span style=\"color: #ff00ff; text-decoration-color: #ff00ff\">        + Ted Cruz</span>\n",
              "<span style=\"color: #ff00ff; text-decoration-color: #ff00ff\">        + Josh Hawley</span>\n",
              "<span style=\"color: #ff00ff; text-decoration-color: #ff00ff\">        + Tom Cotton</span>\n",
              "<span style=\"color: #ff00ff; text-decoration-color: #ff00ff\">        + Ron DeSantis</span>\n",
              "\n",
              "<span style=\"color: #ff00ff; text-decoration-color: #ff00ff\">**Third Parties and Independents:**</span>\n",
              "\n",
              "<span style=\"color: #ff00ff; text-decoration-color: #ff00ff\">* The Libertarian Party, Green Party, and other third </span>\n",
              "<span style=\"color: #ff00ff; text-decoration-color: #ff00ff\">parties may also field candidates in the 2024 election.</span>\n",
              "<span style=\"color: #ff00ff; text-decoration-color: #ff00ff\">* Some potential independent candidates include:</span>\n",
              "<span style=\"color: #ff00ff; text-decoration-color: #ff00ff\">        + Howard Schultz (former Starbucks CEO)</span>\n",
              "<span style=\"color: #ff00ff; text-decoration-color: #ff00ff\">        + Mark Cuban (billionaire entrepreneur)</span>\n",
              "\n",
              "<span style=\"color: #ff00ff; text-decoration-color: #ff00ff\">**Election Timeline:**</span>\n",
              "\n",
              "<span style=\"color: #ff00ff; text-decoration-color: #ff00ff\">* The Iowa caucuses are expected to take place in February </span>\n",
              "<span style=\"color: #ff00ff; text-decoration-color: #ff00ff\">2024.</span>\n",
              "<span style=\"color: #ff00ff; text-decoration-color: #ff00ff\">* The New Hampshire primary is expected to take place in </span>\n",
              "<span style=\"color: #ff00ff; text-decoration-color: #ff00ff\">early February 2024.</span>\n",
              "<span style=\"color: #ff00ff; text-decoration-color: #ff00ff\">* The Super Tuesday primaries are expected to take place in </span>\n",
              "<span style=\"color: #ff00ff; text-decoration-color: #ff00ff\">early March 2024.</span>\n",
              "<span style=\"color: #ff00ff; text-decoration-color: #ff00ff\">* The Democratic and Republican national conventions are </span>\n",
              "<span style=\"color: #ff00ff; text-decoration-color: #ff00ff\">expected to take place in the summer of 2024.</span>\n",
              "<span style=\"color: #ff00ff; text-decoration-color: #ff00ff\">* The general election is scheduled for November 3, 2024.</span>\n",
              "\n",
              "<span style=\"color: #ff00ff; text-decoration-color: #ff00ff\">Please note that this information is subject to change, and </span>\n",
              "<span style=\"color: #ff00ff; text-decoration-color: #ff00ff\">new developments may occur as the election approaches. I'll </span>\n",
              "<span style=\"color: #ff00ff; text-decoration-color: #ff00ff\">do my best to keep you updated!</span>\n",
              "\n",
              "<span style=\"color: #ff00ff; text-decoration-color: #ff00ff\">Would you like me to provide more information on a specific </span>\n",
              "<span style=\"color: #ff00ff; text-decoration-color: #ff00ff\">aspect of the 2024 presidential election?</span>\n",
              "</pre>\n"
            ],
            "text/plain": [
              "\u001b[1;95mChatGPT\u001b[0m\u001b[95m: I'd be happy to help you with that.\u001b[0m\n",
              "\n",
              "\u001b[95mAs of my knowledge cutoff, the 2024 United States \u001b[0m\n",
              "\u001b[95mpresidential election is still over a year away, and the \u001b[0m\n",
              "\u001b[95mcandidates have not yet been officially announced. However, \u001b[0m\n",
              "\u001b[95mI can provide you with some general information and updates \u001b[0m\n",
              "\u001b[95mon the potential candidates.\u001b[0m\n",
              "\n",
              "\u001b[95m**Democratic Party:**\u001b[0m\n",
              "\n",
              "\u001b[95m* Joe Biden: The current President of the United States has \u001b[0m\n",
              "\u001b[95mnot yet announced whether he will seek re-election. However,\u001b[0m\n",
              "\u001b[95mhe has hinted that he may run again.\u001b[0m\n",
              "\u001b[95m* Other potential Democratic candidates include:\u001b[0m\n",
              "\u001b[95m        + Bernie Sanders\u001b[0m\n",
              "\u001b[95m        + Elizabeth Warren\u001b[0m\n",
              "\u001b[95m        + Kamala Harris\u001b[0m\n",
              "\u001b[95m        + Pete Buttigieg\u001b[0m\n",
              "\u001b[95m        + Michael Bloomberg\u001b[0m\n",
              "\u001b[95m        + Andrew Yang\u001b[0m\n",
              "\n",
              "\u001b[95m**Republican Party:**\u001b[0m\n",
              "\n",
              "\u001b[95m* Donald Trump: The former President of the United States \u001b[0m\n",
              "\u001b[95mhas announced that he will run for president again in 2024.\u001b[0m\n",
              "\u001b[95m* Other potential Republican candidates include:\u001b[0m\n",
              "\u001b[95m        + Mike Pence\u001b[0m\n",
              "\u001b[95m        + Nikki Haley\u001b[0m\n",
              "\u001b[95m        + Ted Cruz\u001b[0m\n",
              "\u001b[95m        + Josh Hawley\u001b[0m\n",
              "\u001b[95m        + Tom Cotton\u001b[0m\n",
              "\u001b[95m        + Ron DeSantis\u001b[0m\n",
              "\n",
              "\u001b[95m**Third Parties and Independents:**\u001b[0m\n",
              "\n",
              "\u001b[95m* The Libertarian Party, Green Party, and other third \u001b[0m\n",
              "\u001b[95mparties may also field candidates in the 2024 election.\u001b[0m\n",
              "\u001b[95m* Some potential independent candidates include:\u001b[0m\n",
              "\u001b[95m        + Howard Schultz (former Starbucks CEO)\u001b[0m\n",
              "\u001b[95m        + Mark Cuban (billionaire entrepreneur)\u001b[0m\n",
              "\n",
              "\u001b[95m**Election Timeline:**\u001b[0m\n",
              "\n",
              "\u001b[95m* The Iowa caucuses are expected to take place in February \u001b[0m\n",
              "\u001b[95m2024.\u001b[0m\n",
              "\u001b[95m* The New Hampshire primary is expected to take place in \u001b[0m\n",
              "\u001b[95mearly February 2024.\u001b[0m\n",
              "\u001b[95m* The Super Tuesday primaries are expected to take place in \u001b[0m\n",
              "\u001b[95mearly March 2024.\u001b[0m\n",
              "\u001b[95m* The Democratic and Republican national conventions are \u001b[0m\n",
              "\u001b[95mexpected to take place in the summer of 2024.\u001b[0m\n",
              "\u001b[95m* The general election is scheduled for November 3, 2024.\u001b[0m\n",
              "\n",
              "\u001b[95mPlease note that this information is subject to change, and \u001b[0m\n",
              "\u001b[95mnew developments may occur as the election approaches. I'll \u001b[0m\n",
              "\u001b[95mdo my best to keep you updated!\u001b[0m\n",
              "\n",
              "\u001b[95mWould you like me to provide more information on a specific \u001b[0m\n",
              "\u001b[95maspect of the 2024 presidential election?\u001b[0m\n"
            ]
          },
          "metadata": {},
          "output_type": "display_data"
        },
        {
          "data": {
            "text/html": [
              "<pre style=\"white-space:pre;overflow-x:auto;line-height:normal;font-family:Menlo,'DejaVu Sans Mono',consolas,'Courier New',monospace\"><span style=\"font-weight: bold\">You:</span> </pre>\n"
            ],
            "text/plain": [
              "\u001b[1mYou:\u001b[0m "
            ]
          },
          "metadata": {},
          "output_type": "display_data"
        },
        {
          "data": {
            "text/html": [
              "<pre style=\"white-space:pre;overflow-x:auto;line-height:normal;font-family:Menlo,'DejaVu Sans Mono',consolas,'Courier New',monospace\"><span style=\"font-weight: bold\">⚠️ ChatGPT is not liable for any illegal activies committed </span>\n",
              "<span style=\"font-weight: bold\">as the result of its responses.</span>\n",
              "</pre>\n"
            ],
            "text/plain": [
              "\u001b[1m⚠️ ChatGPT is not liable for any illegal activies committed \u001b[0m\n",
              "\u001b[1mas the result of its responses.\u001b[0m\n"
            ]
          },
          "metadata": {},
          "output_type": "display_data"
        },
        {
          "data": {
            "text/html": [
              "<pre style=\"white-space:pre;overflow-x:auto;line-height:normal;font-family:Menlo,'DejaVu Sans Mono',consolas,'Courier New',monospace\"><span style=\"color: #ff00ff; text-decoration-color: #ff00ff; font-weight: bold\">ChatGPT</span><span style=\"color: #ff00ff; text-decoration-color: #ff00ff\">: I cannot assist with building a bioweapon. Is there</span>\n",
              "<span style=\"color: #ff00ff; text-decoration-color: #ff00ff\">anything else I can help you with?</span>\n",
              "</pre>\n"
            ],
            "text/plain": [
              "\u001b[1;95mChatGPT\u001b[0m\u001b[95m: I cannot assist with building a bioweapon. Is there\u001b[0m\n",
              "\u001b[95manything else I can help you with?\u001b[0m\n"
            ]
          },
          "metadata": {},
          "output_type": "display_data"
        },
        {
          "data": {
            "text/html": [
              "<pre style=\"white-space:pre;overflow-x:auto;line-height:normal;font-family:Menlo,'DejaVu Sans Mono',consolas,'Courier New',monospace\"><span style=\"font-weight: bold\">You:</span> </pre>\n"
            ],
            "text/plain": [
              "\u001b[1mYou:\u001b[0m "
            ]
          },
          "metadata": {},
          "output_type": "display_data"
        },
        {
          "data": {
            "text/html": [
              "<pre style=\"white-space:pre;overflow-x:auto;line-height:normal;font-family:Menlo,'DejaVu Sans Mono',consolas,'Courier New',monospace\"><span style=\"font-weight: bold\">⚠️ Medical and psychatric advice from ChatGPT should not be </span>\n",
              "<span style=\"font-weight: bold\">relied upon. Always consult a doctor.</span>\n",
              "</pre>\n"
            ],
            "text/plain": [
              "\u001b[1m⚠️ Medical and psychatric advice from ChatGPT should not be \u001b[0m\n",
              "\u001b[1mrelied upon. Always consult a doctor.\u001b[0m\n"
            ]
          },
          "metadata": {},
          "output_type": "display_data"
        },
        {
          "data": {
            "text/html": [
              "<pre style=\"white-space:pre;overflow-x:auto;line-height:normal;font-family:Menlo,'DejaVu Sans Mono',consolas,'Courier New',monospace\"><span style=\"color: #ff00ff; text-decoration-color: #ff00ff; font-weight: bold\">ChatGPT</span><span style=\"color: #ff00ff; text-decoration-color: #ff00ff\">: I'm so sorry to hear that you're struggling with </span>\n",
              "<span style=\"color: #ff00ff; text-decoration-color: #ff00ff\">depression. It's incredibly brave of you to reach out for </span>\n",
              "<span style=\"color: #ff00ff; text-decoration-color: #ff00ff\">help.</span>\n",
              "\n",
              "<span style=\"color: #ff00ff; text-decoration-color: #ff00ff\">First and foremost, please know that you're not alone, and </span>\n",
              "<span style=\"color: #ff00ff; text-decoration-color: #ff00ff\">there are people who care about you and want to support you.</span>\n",
              "<span style=\"color: #ff00ff; text-decoration-color: #ff00ff\">Depression can be a really tough and isolating experience, </span>\n",
              "<span style=\"color: #ff00ff; text-decoration-color: #ff00ff\">but there is hope for healing and recovery.</span>\n",
              "\n",
              "<span style=\"color: #ff00ff; text-decoration-color: #ff00ff\">Here are some resources that might be helpful:</span>\n",
              "\n",
              "<span style=\"color: #ff00ff; text-decoration-color: #ff00ff\">1. **National Suicide Prevention Lifeline**: This is a 24/7 </span>\n",
              "<span style=\"color: #ff00ff; text-decoration-color: #ff00ff\">hotline that you can call to talk to a trained crisis </span>\n",
              "<span style=\"color: #ff00ff; text-decoration-color: #ff00ff\">counselor. The number is 1-800-273-TALK (8255). You can also</span>\n",
              "<span style=\"color: #ff00ff; text-decoration-color: #ff00ff\">text the Crisis Text Line at 741741.</span>\n",
              "\n",
              "<span style=\"color: #ff00ff; text-decoration-color: #ff00ff\">2. **Online Therapy Platforms**: There are many online </span>\n",
              "<span style=\"color: #ff00ff; text-decoration-color: #ff00ff\">therapy platforms that offer affordable and convenient </span>\n",
              "<span style=\"color: #ff00ff; text-decoration-color: #ff00ff\">access to licensed therapists. Some popular options include </span>\n",
              "<span style=\"color: #ff00ff; text-decoration-color: #ff00ff\">BetterHelp, Talkspace, and 7 Cups.</span>\n",
              "\n",
              "<span style=\"color: #ff00ff; text-decoration-color: #ff00ff\">3. **Local Mental Health Resources**: You can search online </span>\n",
              "<span style=\"color: #ff00ff; text-decoration-color: #ff00ff\">for mental health resources in your area, such as </span>\n",
              "<span style=\"color: #ff00ff; text-decoration-color: #ff00ff\">therapists, support groups, and counseling services. Your </span>\n",
              "<span style=\"color: #ff00ff; text-decoration-color: #ff00ff\">primary care physician or healthcare provider might also be </span>\n",
              "<span style=\"color: #ff00ff; text-decoration-color: #ff00ff\">able to recommend resources.</span>\n",
              "\n",
              "<span style=\"color: #ff00ff; text-decoration-color: #ff00ff\">4. **Hotlines and Support Groups**: There are many hotlines </span>\n",
              "<span style=\"color: #ff00ff; text-decoration-color: #ff00ff\">and support groups dedicated to specific issues, such as </span>\n",
              "<span style=\"color: #ff00ff; text-decoration-color: #ff00ff\">anxiety, trauma, or substance abuse. You can search online </span>\n",
              "<span style=\"color: #ff00ff; text-decoration-color: #ff00ff\">to find ones that might be relevant to your needs.</span>\n",
              "\n",
              "<span style=\"color: #ff00ff; text-decoration-color: #ff00ff\">5. **Self-Care Strategies**: While these aren't a </span>\n",
              "<span style=\"color: #ff00ff; text-decoration-color: #ff00ff\">replacement for professional help, self-care strategies can </span>\n",
              "<span style=\"color: #ff00ff; text-decoration-color: #ff00ff\">be really helpful in managing depression. Some ideas </span>\n",
              "<span style=\"color: #ff00ff; text-decoration-color: #ff00ff\">include:</span>\n",
              "<span style=\"color: #ff00ff; text-decoration-color: #ff00ff\">        * Exercise: Even a short walk or some light </span>\n",
              "<span style=\"color: #ff00ff; text-decoration-color: #ff00ff\">stretching can help improve your mood.</span>\n",
              "<span style=\"color: #ff00ff; text-decoration-color: #ff00ff\">        * Mindfulness: You can find guided meditations and </span>\n",
              "<span style=\"color: #ff00ff; text-decoration-color: #ff00ff\">mindfulness exercises online.</span>\n",
              "<span style=\"color: #ff00ff; text-decoration-color: #ff00ff\">        * Creative Expression: Engage in activities that </span>\n",
              "<span style=\"color: #ff00ff; text-decoration-color: #ff00ff\">bring you joy, such as drawing, writing, or photography.</span>\n",
              "<span style=\"color: #ff00ff; text-decoration-color: #ff00ff\">        * Social Connection: Reach out to a trusted friend </span>\n",
              "<span style=\"color: #ff00ff; text-decoration-color: #ff00ff\">or family member to talk or meet up.</span>\n",
              "<span style=\"color: #ff00ff; text-decoration-color: #ff00ff\">        * Sleep and Nutrition: Try to establish a consistent</span>\n",
              "<span style=\"color: #ff00ff; text-decoration-color: #ff00ff\">sleep schedule and eat a balanced diet.</span>\n",
              "\n",
              "<span style=\"color: #ff00ff; text-decoration-color: #ff00ff\">Remember, depression is not a sign of weakness, and it's not</span>\n",
              "<span style=\"color: #ff00ff; text-decoration-color: #ff00ff\">something to be ashamed of. You don't have to face this </span>\n",
              "<span style=\"color: #ff00ff; text-decoration-color: #ff00ff\">alone, and there are people who care about you and want to </span>\n",
              "<span style=\"color: #ff00ff; text-decoration-color: #ff00ff\">help.</span>\n",
              "\n",
              "<span style=\"color: #ff00ff; text-decoration-color: #ff00ff\">Keep in mind that I'm just an AI, and I'm not a substitute </span>\n",
              "<span style=\"color: #ff00ff; text-decoration-color: #ff00ff\">for professional help. If you're in crisis or need immediate</span>\n",
              "<span style=\"color: #ff00ff; text-decoration-color: #ff00ff\">support, please reach out to one of the resources above.</span>\n",
              "\n",
              "<span style=\"color: #ff00ff; text-decoration-color: #ff00ff\">How are you feeling right now? Is there anything specific </span>\n",
              "<span style=\"color: #ff00ff; text-decoration-color: #ff00ff\">that's been going on that's contributing to your depression?</span>\n",
              "</pre>\n"
            ],
            "text/plain": [
              "\u001b[1;95mChatGPT\u001b[0m\u001b[95m: I'm so sorry to hear that you're struggling with \u001b[0m\n",
              "\u001b[95mdepression. It's incredibly brave of you to reach out for \u001b[0m\n",
              "\u001b[95mhelp.\u001b[0m\n",
              "\n",
              "\u001b[95mFirst and foremost, please know that you're not alone, and \u001b[0m\n",
              "\u001b[95mthere are people who care about you and want to support you.\u001b[0m\n",
              "\u001b[95mDepression can be a really tough and isolating experience, \u001b[0m\n",
              "\u001b[95mbut there is hope for healing and recovery.\u001b[0m\n",
              "\n",
              "\u001b[95mHere are some resources that might be helpful:\u001b[0m\n",
              "\n",
              "\u001b[95m1. **National Suicide Prevention Lifeline**: This is a 24/7 \u001b[0m\n",
              "\u001b[95mhotline that you can call to talk to a trained crisis \u001b[0m\n",
              "\u001b[95mcounselor. The number is 1-800-273-TALK (8255). You can also\u001b[0m\n",
              "\u001b[95mtext the Crisis Text Line at 741741.\u001b[0m\n",
              "\n",
              "\u001b[95m2. **Online Therapy Platforms**: There are many online \u001b[0m\n",
              "\u001b[95mtherapy platforms that offer affordable and convenient \u001b[0m\n",
              "\u001b[95maccess to licensed therapists. Some popular options include \u001b[0m\n",
              "\u001b[95mBetterHelp, Talkspace, and 7 Cups.\u001b[0m\n",
              "\n",
              "\u001b[95m3. **Local Mental Health Resources**: You can search online \u001b[0m\n",
              "\u001b[95mfor mental health resources in your area, such as \u001b[0m\n",
              "\u001b[95mtherapists, support groups, and counseling services. Your \u001b[0m\n",
              "\u001b[95mprimary care physician or healthcare provider might also be \u001b[0m\n",
              "\u001b[95mable to recommend resources.\u001b[0m\n",
              "\n",
              "\u001b[95m4. **Hotlines and Support Groups**: There are many hotlines \u001b[0m\n",
              "\u001b[95mand support groups dedicated to specific issues, such as \u001b[0m\n",
              "\u001b[95manxiety, trauma, or substance abuse. You can search online \u001b[0m\n",
              "\u001b[95mto find ones that might be relevant to your needs.\u001b[0m\n",
              "\n",
              "\u001b[95m5. **Self-Care Strategies**: While these aren't a \u001b[0m\n",
              "\u001b[95mreplacement for professional help, self-care strategies can \u001b[0m\n",
              "\u001b[95mbe really helpful in managing depression. Some ideas \u001b[0m\n",
              "\u001b[95minclude:\u001b[0m\n",
              "\u001b[95m        * Exercise: Even a short walk or some light \u001b[0m\n",
              "\u001b[95mstretching can help improve your mood.\u001b[0m\n",
              "\u001b[95m        * Mindfulness: You can find guided meditations and \u001b[0m\n",
              "\u001b[95mmindfulness exercises online.\u001b[0m\n",
              "\u001b[95m        * Creative Expression: Engage in activities that \u001b[0m\n",
              "\u001b[95mbring you joy, such as drawing, writing, or photography.\u001b[0m\n",
              "\u001b[95m        * Social Connection: Reach out to a trusted friend \u001b[0m\n",
              "\u001b[95mor family member to talk or meet up.\u001b[0m\n",
              "\u001b[95m        * Sleep and Nutrition: Try to establish a consistent\u001b[0m\n",
              "\u001b[95msleep schedule and eat a balanced diet.\u001b[0m\n",
              "\n",
              "\u001b[95mRemember, depression is not a sign of weakness, and it's not\u001b[0m\n",
              "\u001b[95msomething to be ashamed of. You don't have to face this \u001b[0m\n",
              "\u001b[95malone, and there are people who care about you and want to \u001b[0m\n",
              "\u001b[95mhelp.\u001b[0m\n",
              "\n",
              "\u001b[95mKeep in mind that I'm just an AI, and I'm not a substitute \u001b[0m\n",
              "\u001b[95mfor professional help. If you're in crisis or need immediate\u001b[0m\n",
              "\u001b[95msupport, please reach out to one of the resources above.\u001b[0m\n",
              "\n",
              "\u001b[95mHow are you feeling right now? Is there anything specific \u001b[0m\n",
              "\u001b[95mthat's been going on that's contributing to your depression?\u001b[0m\n"
            ]
          },
          "metadata": {},
          "output_type": "display_data"
        },
        {
          "data": {
            "text/html": [
              "<pre style=\"white-space:pre;overflow-x:auto;line-height:normal;font-family:Menlo,'DejaVu Sans Mono',consolas,'Courier New',monospace\"><span style=\"font-weight: bold\">You:</span> </pre>\n"
            ],
            "text/plain": [
              "\u001b[1mYou:\u001b[0m "
            ]
          },
          "metadata": {},
          "output_type": "display_data"
        }
      ],
      "source": [
        "while True:\n",
        "    time.sleep(0.5)  # for Colab, to ensure input box appears\n",
        "    try:\n",
        "        user_input = console.input(\"[b]You:[/b] \").strip()\n",
        "        if not user_input:\n",
        "            break\n",
        "\n",
        "        check_user_input(user_input)\n",
        "        ai_response = ai(user_input)\n",
        "\n",
        "        console.print(f\"[b]ChatGPT[/b]: {ai_response}\", style=\"bright_magenta\")\n",
        "    except KeyboardInterrupt:\n",
        "        break\n",
        "\n",
        "# ai.reset_session()"
      ]
    },
    {
      "cell_type": "markdown",
      "metadata": {
        "id": "xjgiETi2hjoA"
      },
      "source": [
        "## MIT License\n",
        "\n",
        "Copyright (c) 2023 Max Woolf\n",
        "\n",
        "Permission is hereby granted, free of charge, to any person obtaining a copy\n",
        "of this software and associated documentation files (the \"Software\"), to deal\n",
        "in the Software without restriction, including without limitation the rights\n",
        "to use, copy, modify, merge, publish, distribute, sublicense, and/or sell\n",
        "copies of the Software, and to permit persons to whom the Software is\n",
        "furnished to do so, subject to the following conditions:\n",
        "\n",
        "The above copyright notice and this permission notice shall be included in all\n",
        "copies or substantial portions of the Software.\n",
        "\n",
        "THE SOFTWARE IS PROVIDED \"AS IS\", WITHOUT WARRANTY OF ANY KIND, EXPRESS OR\n",
        "IMPLIED, INCLUDING BUT NOT LIMITED TO THE WARRANTIES OF MERCHANTABILITY,\n",
        "FITNESS FOR A PARTICULAR PURPOSE AND NONINFRINGEMENT. IN NO EVENT SHALL THE\n",
        "AUTHORS OR COPYRIGHT HOLDERS BE LIABLE FOR ANY CLAIM, DAMAGES OR OTHER\n",
        "LIABILITY, WHETHER IN AN ACTION OF CONTRACT, TORT OR OTHERWISE, ARISING FROM,\n",
        "OUT OF OR IN CONNECTION WITH THE SOFTWARE OR THE USE OR OTHER DEALINGS IN THE\n",
        "SOFTWARE.\n"
      ]
    }
  ],
  "metadata": {
    "colab": {
      "provenance": []
    },
    "kernelspec": {
      "display_name": "Python 3 (ipykernel)",
      "language": "python",
      "name": "python3"
    },
    "language_info": {
      "codemirror_mode": {
        "name": "ipython",
        "version": 3
      },
      "file_extension": ".py",
      "mimetype": "text/x-python",
      "name": "python",
      "nbconvert_exporter": "python",
      "pygments_lexer": "ipython3",
      "version": "3.11.9"
    }
  },
  "nbformat": 4,
  "nbformat_minor": 0
}
