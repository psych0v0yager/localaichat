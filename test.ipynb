{
 "cells": [
  {
   "cell_type": "code",
   "execution_count": 1,
   "metadata": {},
   "outputs": [],
   "source": [
    "from localaichat.localaichat import Entity, AsyncEntity\n",
    "from getpass import getpass\n",
    "import asyncio"
   ]
  },
  {
   "cell_type": "code",
   "execution_count": 2,
   "metadata": {},
   "outputs": [],
   "source": [
    "api_key = \"token-abc123\""
   ]
  },
  {
   "cell_type": "code",
   "execution_count": 3,
   "metadata": {},
   "outputs": [],
   "source": [
    "hemisphere1 = AsyncEntity(client_type=\"vLLM\", api_key=\"token-abc123\", model=\"/home/server_runner/Desktop/CloserModels/llama31_70B_awq\", console=False)\n",
    "hemisphere2 = AsyncEntity(client_type=\"vLLM\", api_key=\"token-abc123\", model=\"/home/server_runner/Desktop/CloserModels/llama31_70B_awq\", console=False)"
   ]
  },
  {
   "cell_type": "code",
   "execution_count": 8,
   "metadata": {},
   "outputs": [
    {
     "name": "stdout",
     "output_type": "stream",
     "text": [
      "Sacramento was founded on December 13, 1839, by Swiss-born John Sutter, who established a trading post and named it Sutter's Fort. However, the city was officially incorporated on February 27, 1850.\n"
     ]
    }
   ],
   "source": [
    "response = await hemisphere1(\"When was sacramento founded?\")\n",
    "print(response)"
   ]
  },
  {
   "cell_type": "code",
   "execution_count": 5,
   "metadata": {},
   "outputs": [],
   "source": [
    "states = [\"Washington\", \"New Mexico\", \"Texas\", \"Mississippi\", \"Alaska\"]\n",
    "model = \"/home/server_runner/Desktop/CloserModels/llama31_70B_awq\"\n",
    "\n",
    "for state in states:\n",
    "    hemisphere1.new_session(model=model, api_key=api_key, id=state)"
   ]
  },
  {
   "cell_type": "code",
   "execution_count": 6,
   "metadata": {},
   "outputs": [
    {
     "data": {
      "text/plain": [
       "{UUID('cee4a0fc-0f64-4f5b-a1bf-bf577c6a6542'): vLLMSession(id=UUID('cee4a0fc-0f64-4f5b-a1bf-bf577c6a6542'), created_at=datetime.datetime(2024, 7, 27, 23, 33, 42, 640231, tzinfo=datetime.timezone.utc), auth={'api_key': SecretStr('**********')}, api_url='http://localhost:8000/v1/chat/completions', model='/home/server_runner/Desktop/CloserModels/llama31_70B_awq', system='You are a helpful assistant.', params={'temperature': 0.3}, messages=[ChatMessage(role='user', content='What is the capital of California?', name=None, function_call=None, received_at=datetime.datetime(2024, 7, 27, 23, 33, 44, 244901, tzinfo=datetime.timezone.utc), finish_reason=None, prompt_length=None, completion_length=None, total_length=None), ChatMessage(role='assistant', content='The capital of California is Sacramento.', name=None, function_call=None, received_at=datetime.datetime(2024, 7, 27, 23, 33, 44, 650615, tzinfo=datetime.timezone.utc), finish_reason='stop', prompt_length=28, completion_length=8, total_length=36)], input_fields={'role', 'name', 'content'}, recent_messages=None, save_messages=True, total_prompt_length=28, total_completion_length=8, total_length=36, title=None),\n",
       " 'Washington': vLLMSession(id='Washington', created_at=datetime.datetime(2024, 7, 27, 23, 33, 51, 628372, tzinfo=datetime.timezone.utc), auth={'api_key': SecretStr('**********')}, api_url='http://localhost:8000/v1/chat/completions', model='/home/server_runner/Desktop/CloserModels/llama31_70B_awq', system='You are a helpful assistant.', params={'temperature': 0.3}, messages=[], input_fields={'role', 'name', 'content'}, recent_messages=None, save_messages=True, total_prompt_length=0, total_completion_length=0, total_length=0, title=None),\n",
       " 'New Mexico': vLLMSession(id='New Mexico', created_at=datetime.datetime(2024, 7, 27, 23, 33, 51, 628425, tzinfo=datetime.timezone.utc), auth={'api_key': SecretStr('**********')}, api_url='http://localhost:8000/v1/chat/completions', model='/home/server_runner/Desktop/CloserModels/llama31_70B_awq', system='You are a helpful assistant.', params={'temperature': 0.3}, messages=[], input_fields={'role', 'name', 'content'}, recent_messages=None, save_messages=True, total_prompt_length=0, total_completion_length=0, total_length=0, title=None),\n",
       " 'Texas': vLLMSession(id='Texas', created_at=datetime.datetime(2024, 7, 27, 23, 33, 51, 628449, tzinfo=datetime.timezone.utc), auth={'api_key': SecretStr('**********')}, api_url='http://localhost:8000/v1/chat/completions', model='/home/server_runner/Desktop/CloserModels/llama31_70B_awq', system='You are a helpful assistant.', params={'temperature': 0.3}, messages=[], input_fields={'role', 'name', 'content'}, recent_messages=None, save_messages=True, total_prompt_length=0, total_completion_length=0, total_length=0, title=None),\n",
       " 'Mississippi': vLLMSession(id='Mississippi', created_at=datetime.datetime(2024, 7, 27, 23, 33, 51, 628469, tzinfo=datetime.timezone.utc), auth={'api_key': SecretStr('**********')}, api_url='http://localhost:8000/v1/chat/completions', model='/home/server_runner/Desktop/CloserModels/llama31_70B_awq', system='You are a helpful assistant.', params={'temperature': 0.3}, messages=[], input_fields={'role', 'name', 'content'}, recent_messages=None, save_messages=True, total_prompt_length=0, total_completion_length=0, total_length=0, title=None),\n",
       " 'Alaska': vLLMSession(id='Alaska', created_at=datetime.datetime(2024, 7, 27, 23, 33, 51, 628487, tzinfo=datetime.timezone.utc), auth={'api_key': SecretStr('**********')}, api_url='http://localhost:8000/v1/chat/completions', model='/home/server_runner/Desktop/CloserModels/llama31_70B_awq', system='You are a helpful assistant.', params={'temperature': 0.3}, messages=[], input_fields={'role', 'name', 'content'}, recent_messages=None, save_messages=True, total_prompt_length=0, total_completion_length=0, total_length=0, title=None)}"
      ]
     },
     "execution_count": 6,
     "metadata": {},
     "output_type": "execute_result"
    }
   ],
   "source": [
    "hemisphere1.sessions"
   ]
  },
  {
   "cell_type": "code",
   "execution_count": 7,
   "metadata": {},
   "outputs": [
    {
     "data": {
      "text/plain": [
       "['The capital of Washington state is Olympia.',\n",
       " 'The capital of New Mexico is Santa Fe.',\n",
       " 'The capital of Texas is Austin.',\n",
       " 'The capital of Mississippi is Jackson.',\n",
       " 'The capital of Alaska is Juneau.']"
      ]
     },
     "execution_count": 7,
     "metadata": {},
     "output_type": "execute_result"
    }
   ],
   "source": [
    "tasks = []\n",
    "for state in states:\n",
    "    tasks.append(hemisphere1(f\"What is the capital of {state}?\", id=state))\n",
    "\n",
    "results = await asyncio.gather(*tasks)\n",
    "results"
   ]
  },
  {
   "cell_type": "code",
   "execution_count": 20,
   "metadata": {},
   "outputs": [
    {
     "data": {
      "text/plain": [
       "[ChatMessage(role='user', content='What is the capital of Washington?', name=None, function_call=None, received_at=datetime.datetime(2024, 7, 27, 23, 37, 15, 493728, tzinfo=datetime.timezone.utc), finish_reason=None, prompt_length=None, completion_length=None, total_length=None),\n",
       " ChatMessage(role='assistant', content='The capital of Washington state is Olympia.', name=None, function_call=None, received_at=datetime.datetime(2024, 7, 27, 23, 37, 16, 583703, tzinfo=datetime.timezone.utc), finish_reason='stop', prompt_length=28, completion_length=9, total_length=37)]"
      ]
     },
     "execution_count": 20,
     "metadata": {},
     "output_type": "execute_result"
    }
   ],
   "source": [
    "hemisphere1.sessions[\"Washington\"].messages"
   ]
  },
  {
   "cell_type": "code",
   "execution_count": null,
   "metadata": {},
   "outputs": [],
   "source": []
  }
 ],
 "metadata": {
  "kernelspec": {
   "display_name": "localaichatv1",
   "language": "python",
   "name": "python3"
  },
  "language_info": {
   "codemirror_mode": {
    "name": "ipython",
    "version": 3
   },
   "file_extension": ".py",
   "mimetype": "text/x-python",
   "name": "python",
   "nbconvert_exporter": "python",
   "pygments_lexer": "ipython3",
   "version": "3.11.9"
  }
 },
 "nbformat": 4,
 "nbformat_minor": 2
}
